{
 "cells": [
  {
   "cell_type": "code",
   "execution_count": 2,
   "id": "bf0fa60d",
   "metadata": {},
   "outputs": [],
   "source": [
    "import numpy as np\n",
    "import pandas as pd\n",
    "import matplotlib.pyplot as plt\n",
    "import seaborn as sns\n",
    "import warnings\n",
    "warnings.filterwarnings(\"ignore\")\n",
    "from scipy import stats "
   ]
  },
  {
   "cell_type": "code",
   "execution_count": 3,
   "id": "2feb9fac",
   "metadata": {},
   "outputs": [],
   "source": [
    "#load the dataset\n",
    "amx= pd.read_parquet('train_data.parquet')"
   ]
  },
  {
   "cell_type": "code",
   "execution_count": 4,
   "id": "9b7e84dd",
   "metadata": {},
   "outputs": [],
   "source": [
    "#create random sampling\n",
    "amx_1=amx.sample(n=500000)\n",
    "t1=amx.sample(n=100000)\n",
    "t2=amx.sample(n=100000)\n",
    "t3=amx.sample(n=100000)\n",
    "t4=amx.sample(n=100000)\n",
    "t5=amx.sample(n=100000)"
   ]
  },
  {
   "cell_type": "code",
   "execution_count": 5,
   "id": "b4406102",
   "metadata": {},
   "outputs": [
    {
     "data": {
      "text/plain": [
       "((500000, 191),\n",
       " (100000, 191),\n",
       " (100000, 191),\n",
       " (100000, 191),\n",
       " (100000, 191),\n",
       " (100000, 191))"
      ]
     },
     "execution_count": 5,
     "metadata": {},
     "output_type": "execute_result"
    }
   ],
   "source": [
    "#check shape of data\n",
    "amx_1.shape,t1.shape,t2.shape,t3.shape,t4.shape,t5.shape"
   ]
  },
  {
   "cell_type": "code",
   "execution_count": 28,
   "id": "5d6c587f",
   "metadata": {},
   "outputs": [
    {
     "data": {
      "text/plain": [
       "2          O\n",
       "3          O\n",
       "15         O\n",
       "31         R\n",
       "31         R\n",
       "          ..\n",
       "5531430    U\n",
       "5531432    U\n",
       "5531436    R\n",
       "5531439    U\n",
       "5531442    O\n",
       "Name: D_64, Length: 1000000, dtype: object"
      ]
     },
     "execution_count": 28,
     "metadata": {},
     "output_type": "execute_result"
    }
   ],
   "source": [
    "amx_samp=pd.concat([amx_1,t1,t2,t3,t4,t5],axis=0)"
   ]
  },
  {
   "cell_type": "code",
   "execution_count": 32,
   "id": "8d283e01",
   "metadata": {},
   "outputs": [],
   "source": [
    "amx_samp.shape\n",
    "amx_samp.head()\n",
    "sort=amx_samp.sort_values([\"customer_ID\",\"S_2\"])\n",
    "sort[\"D_64\"]=sort[\"D_64\"].ffill().bfill()\n",
    "cat=pd.concat([sort.loc[sort[\"target\"]==0].groupby(\"customer_ID\")[[\"D_63\",\"D_64\"]].max(),sort.loc[sort[\"target\"]==1].groupby(\"customer_ID\")[[\"D_63\",\"D_64\"]].max()],axis=0,ignore_index=True)\n"
   ]
  },
  {
   "cell_type": "code",
   "execution_count": 33,
   "id": "e22f6ae9",
   "metadata": {},
   "outputs": [
    {
     "data": {
      "text/plain": [
       "((399877, 187), (399877, 2))"
      ]
     },
     "execution_count": 33,
     "metadata": {},
     "output_type": "execute_result"
    }
   ],
   "source": [
    "#sort=amx_samp.sort_values([\"customer_ID\",\"S_2\"])\n",
    "#sort[\"D_64\"]=sort[\"D_64\"].ffill().bfill()\n",
    "\n",
    "#sort1=pd.concat([sort,pd.get_dummies(sort[[\"D_63\",\"D_64\"]],drop_first=True)],axis=1)\n",
    "num=pd.concat([sort.loc[sort[\"target\"]==0].groupby(\"customer_ID\").median(),sort.loc[sort[\"target\"]==1].groupby(\"customer_ID\").median()],axis=0,ignore_index=True)\n",
    "\n",
    "num.shape,cat.shape\n"
   ]
  },
  {
   "cell_type": "code",
   "execution_count": 49,
   "id": "90a98d4b",
   "metadata": {},
   "outputs": [
    {
     "data": {
      "text/plain": [
       "(399877, 195)"
      ]
     },
     "execution_count": 49,
     "metadata": {},
     "output_type": "execute_result"
    }
   ],
   "source": [
    "df=pd.get_dummies(pd.concat([num,cat],axis=1),drop_first=True)\n",
    "df=df.ffill().bfill()\n",
    "df.shape"
   ]
  },
  {
   "cell_type": "code",
   "execution_count": null,
   "id": "3984184b",
   "metadata": {},
   "outputs": [],
   "source": []
  },
  {
   "cell_type": "code",
   "execution_count": 102,
   "id": "dd1f7f7f",
   "metadata": {},
   "outputs": [],
   "source": [
    "import numpy as np\n",
    "corr_matrix = df.corr().abs()\n",
    "\n",
    "# Select upper triangle of correlation matrix\n",
    "upper = corr_matrix.where(np.triu(np.ones(corr_matrix.shape), k=1).astype(np.bool))\n",
    "\n",
    "# Find features with correlation greater than 0.75\n",
    "to_drop = [column for column in upper.columns if any(upper[column] > 0.75)]\n",
    "\n",
    "# Drop features \n",
    "#df.drop(to_drop, axis=1, inplace=True)"
   ]
  },
  {
   "cell_type": "code",
   "execution_count": 80,
   "id": "143963f8",
   "metadata": {},
   "outputs": [
    {
     "data": {
      "text/html": [
       "<div>\n",
       "<style scoped>\n",
       "    .dataframe tbody tr th:only-of-type {\n",
       "        vertical-align: middle;\n",
       "    }\n",
       "\n",
       "    .dataframe tbody tr th {\n",
       "        vertical-align: top;\n",
       "    }\n",
       "\n",
       "    .dataframe thead th {\n",
       "        text-align: right;\n",
       "    }\n",
       "</style>\n",
       "<table border=\"1\" class=\"dataframe\">\n",
       "  <thead>\n",
       "    <tr style=\"text-align: right;\">\n",
       "      <th></th>\n",
       "      <th>P_2</th>\n",
       "      <th>D_39</th>\n",
       "      <th>B_1</th>\n",
       "      <th>B_2</th>\n",
       "      <th>R_1</th>\n",
       "      <th>S_3</th>\n",
       "      <th>D_41</th>\n",
       "      <th>B_3</th>\n",
       "      <th>D_42</th>\n",
       "      <th>D_43</th>\n",
       "      <th>...</th>\n",
       "      <th>D_145</th>\n",
       "      <th>target</th>\n",
       "      <th>D_63_CO</th>\n",
       "      <th>D_63_CR</th>\n",
       "      <th>D_63_XL</th>\n",
       "      <th>D_63_XM</th>\n",
       "      <th>D_63_XZ</th>\n",
       "      <th>D_64_O</th>\n",
       "      <th>D_64_R</th>\n",
       "      <th>D_64_U</th>\n",
       "    </tr>\n",
       "  </thead>\n",
       "  <tbody>\n",
       "    <tr>\n",
       "      <th>P_2</th>\n",
       "      <td>NaN</td>\n",
       "      <td>0.18885</td>\n",
       "      <td>0.367148</td>\n",
       "      <td>0.557105</td>\n",
       "      <td>0.475991</td>\n",
       "      <td>0.326299</td>\n",
       "      <td>0.310715</td>\n",
       "      <td>0.448749</td>\n",
       "      <td>0.235435</td>\n",
       "      <td>0.287163</td>\n",
       "      <td>...</td>\n",
       "      <td>0.166109</td>\n",
       "      <td>0.614998</td>\n",
       "      <td>0.041110</td>\n",
       "      <td>0.053109</td>\n",
       "      <td>0.005631</td>\n",
       "      <td>0.002169</td>\n",
       "      <td>0.020095</td>\n",
       "      <td>0.254141</td>\n",
       "      <td>0.087495</td>\n",
       "      <td>0.202303</td>\n",
       "    </tr>\n",
       "    <tr>\n",
       "      <th>D_39</th>\n",
       "      <td>NaN</td>\n",
       "      <td>NaN</td>\n",
       "      <td>0.188734</td>\n",
       "      <td>0.195538</td>\n",
       "      <td>0.202108</td>\n",
       "      <td>0.066271</td>\n",
       "      <td>0.444340</td>\n",
       "      <td>0.182154</td>\n",
       "      <td>0.066257</td>\n",
       "      <td>0.049564</td>\n",
       "      <td>...</td>\n",
       "      <td>0.023412</td>\n",
       "      <td>0.186362</td>\n",
       "      <td>0.188220</td>\n",
       "      <td>0.091948</td>\n",
       "      <td>0.018958</td>\n",
       "      <td>0.018609</td>\n",
       "      <td>0.006330</td>\n",
       "      <td>0.014754</td>\n",
       "      <td>0.004588</td>\n",
       "      <td>0.013072</td>\n",
       "    </tr>\n",
       "    <tr>\n",
       "      <th>B_1</th>\n",
       "      <td>NaN</td>\n",
       "      <td>NaN</td>\n",
       "      <td>NaN</td>\n",
       "      <td>0.647279</td>\n",
       "      <td>0.236801</td>\n",
       "      <td>0.163704</td>\n",
       "      <td>0.182016</td>\n",
       "      <td>0.738076</td>\n",
       "      <td>0.096518</td>\n",
       "      <td>0.083217</td>\n",
       "      <td>...</td>\n",
       "      <td>0.078278</td>\n",
       "      <td>0.393132</td>\n",
       "      <td>0.103366</td>\n",
       "      <td>0.121281</td>\n",
       "      <td>0.002188</td>\n",
       "      <td>0.018355</td>\n",
       "      <td>0.005767</td>\n",
       "      <td>0.070520</td>\n",
       "      <td>0.025582</td>\n",
       "      <td>0.055792</td>\n",
       "    </tr>\n",
       "    <tr>\n",
       "      <th>B_2</th>\n",
       "      <td>NaN</td>\n",
       "      <td>NaN</td>\n",
       "      <td>NaN</td>\n",
       "      <td>NaN</td>\n",
       "      <td>0.320103</td>\n",
       "      <td>0.239378</td>\n",
       "      <td>0.255436</td>\n",
       "      <td>0.728015</td>\n",
       "      <td>0.150239</td>\n",
       "      <td>0.151505</td>\n",
       "      <td>...</td>\n",
       "      <td>0.127359</td>\n",
       "      <td>0.497168</td>\n",
       "      <td>0.135589</td>\n",
       "      <td>0.171234</td>\n",
       "      <td>0.001084</td>\n",
       "      <td>0.021994</td>\n",
       "      <td>0.011971</td>\n",
       "      <td>0.128990</td>\n",
       "      <td>0.041340</td>\n",
       "      <td>0.106674</td>\n",
       "    </tr>\n",
       "    <tr>\n",
       "      <th>R_1</th>\n",
       "      <td>NaN</td>\n",
       "      <td>NaN</td>\n",
       "      <td>NaN</td>\n",
       "      <td>NaN</td>\n",
       "      <td>NaN</td>\n",
       "      <td>0.222936</td>\n",
       "      <td>0.277583</td>\n",
       "      <td>0.279042</td>\n",
       "      <td>0.143223</td>\n",
       "      <td>0.189745</td>\n",
       "      <td>...</td>\n",
       "      <td>0.076915</td>\n",
       "      <td>0.386730</td>\n",
       "      <td>0.019015</td>\n",
       "      <td>0.043066</td>\n",
       "      <td>0.006733</td>\n",
       "      <td>0.001787</td>\n",
       "      <td>0.007988</td>\n",
       "      <td>0.082478</td>\n",
       "      <td>0.029465</td>\n",
       "      <td>0.065765</td>\n",
       "    </tr>\n",
       "    <tr>\n",
       "      <th>...</th>\n",
       "      <td>...</td>\n",
       "      <td>...</td>\n",
       "      <td>...</td>\n",
       "      <td>...</td>\n",
       "      <td>...</td>\n",
       "      <td>...</td>\n",
       "      <td>...</td>\n",
       "      <td>...</td>\n",
       "      <td>...</td>\n",
       "      <td>...</td>\n",
       "      <td>...</td>\n",
       "      <td>...</td>\n",
       "      <td>...</td>\n",
       "      <td>...</td>\n",
       "      <td>...</td>\n",
       "      <td>...</td>\n",
       "      <td>...</td>\n",
       "      <td>...</td>\n",
       "      <td>...</td>\n",
       "      <td>...</td>\n",
       "      <td>...</td>\n",
       "    </tr>\n",
       "    <tr>\n",
       "      <th>D_63_XM</th>\n",
       "      <td>NaN</td>\n",
       "      <td>NaN</td>\n",
       "      <td>NaN</td>\n",
       "      <td>NaN</td>\n",
       "      <td>NaN</td>\n",
       "      <td>NaN</td>\n",
       "      <td>NaN</td>\n",
       "      <td>NaN</td>\n",
       "      <td>NaN</td>\n",
       "      <td>NaN</td>\n",
       "      <td>...</td>\n",
       "      <td>NaN</td>\n",
       "      <td>NaN</td>\n",
       "      <td>NaN</td>\n",
       "      <td>NaN</td>\n",
       "      <td>NaN</td>\n",
       "      <td>NaN</td>\n",
       "      <td>0.004595</td>\n",
       "      <td>0.001991</td>\n",
       "      <td>0.001655</td>\n",
       "      <td>0.001186</td>\n",
       "    </tr>\n",
       "    <tr>\n",
       "      <th>D_63_XZ</th>\n",
       "      <td>NaN</td>\n",
       "      <td>NaN</td>\n",
       "      <td>NaN</td>\n",
       "      <td>NaN</td>\n",
       "      <td>NaN</td>\n",
       "      <td>NaN</td>\n",
       "      <td>NaN</td>\n",
       "      <td>NaN</td>\n",
       "      <td>NaN</td>\n",
       "      <td>NaN</td>\n",
       "      <td>...</td>\n",
       "      <td>NaN</td>\n",
       "      <td>NaN</td>\n",
       "      <td>NaN</td>\n",
       "      <td>NaN</td>\n",
       "      <td>NaN</td>\n",
       "      <td>NaN</td>\n",
       "      <td>NaN</td>\n",
       "      <td>0.006870</td>\n",
       "      <td>0.002901</td>\n",
       "      <td>0.004845</td>\n",
       "    </tr>\n",
       "    <tr>\n",
       "      <th>D_64_O</th>\n",
       "      <td>NaN</td>\n",
       "      <td>NaN</td>\n",
       "      <td>NaN</td>\n",
       "      <td>NaN</td>\n",
       "      <td>NaN</td>\n",
       "      <td>NaN</td>\n",
       "      <td>NaN</td>\n",
       "      <td>NaN</td>\n",
       "      <td>NaN</td>\n",
       "      <td>NaN</td>\n",
       "      <td>...</td>\n",
       "      <td>NaN</td>\n",
       "      <td>NaN</td>\n",
       "      <td>NaN</td>\n",
       "      <td>NaN</td>\n",
       "      <td>NaN</td>\n",
       "      <td>NaN</td>\n",
       "      <td>NaN</td>\n",
       "      <td>NaN</td>\n",
       "      <td>0.433248</td>\n",
       "      <td>0.717138</td>\n",
       "    </tr>\n",
       "    <tr>\n",
       "      <th>D_64_R</th>\n",
       "      <td>NaN</td>\n",
       "      <td>NaN</td>\n",
       "      <td>NaN</td>\n",
       "      <td>NaN</td>\n",
       "      <td>NaN</td>\n",
       "      <td>NaN</td>\n",
       "      <td>NaN</td>\n",
       "      <td>NaN</td>\n",
       "      <td>NaN</td>\n",
       "      <td>NaN</td>\n",
       "      <td>...</td>\n",
       "      <td>NaN</td>\n",
       "      <td>NaN</td>\n",
       "      <td>NaN</td>\n",
       "      <td>NaN</td>\n",
       "      <td>NaN</td>\n",
       "      <td>NaN</td>\n",
       "      <td>NaN</td>\n",
       "      <td>NaN</td>\n",
       "      <td>NaN</td>\n",
       "      <td>0.303831</td>\n",
       "    </tr>\n",
       "    <tr>\n",
       "      <th>D_64_U</th>\n",
       "      <td>NaN</td>\n",
       "      <td>NaN</td>\n",
       "      <td>NaN</td>\n",
       "      <td>NaN</td>\n",
       "      <td>NaN</td>\n",
       "      <td>NaN</td>\n",
       "      <td>NaN</td>\n",
       "      <td>NaN</td>\n",
       "      <td>NaN</td>\n",
       "      <td>NaN</td>\n",
       "      <td>...</td>\n",
       "      <td>NaN</td>\n",
       "      <td>NaN</td>\n",
       "      <td>NaN</td>\n",
       "      <td>NaN</td>\n",
       "      <td>NaN</td>\n",
       "      <td>NaN</td>\n",
       "      <td>NaN</td>\n",
       "      <td>NaN</td>\n",
       "      <td>NaN</td>\n",
       "      <td>NaN</td>\n",
       "    </tr>\n",
       "  </tbody>\n",
       "</table>\n",
       "<p>195 rows × 195 columns</p>\n",
       "</div>"
      ],
      "text/plain": [
       "         P_2     D_39       B_1       B_2       R_1       S_3      D_41  \\\n",
       "P_2      NaN  0.18885  0.367148  0.557105  0.475991  0.326299  0.310715   \n",
       "D_39     NaN      NaN  0.188734  0.195538  0.202108  0.066271  0.444340   \n",
       "B_1      NaN      NaN       NaN  0.647279  0.236801  0.163704  0.182016   \n",
       "B_2      NaN      NaN       NaN       NaN  0.320103  0.239378  0.255436   \n",
       "R_1      NaN      NaN       NaN       NaN       NaN  0.222936  0.277583   \n",
       "...      ...      ...       ...       ...       ...       ...       ...   \n",
       "D_63_XM  NaN      NaN       NaN       NaN       NaN       NaN       NaN   \n",
       "D_63_XZ  NaN      NaN       NaN       NaN       NaN       NaN       NaN   \n",
       "D_64_O   NaN      NaN       NaN       NaN       NaN       NaN       NaN   \n",
       "D_64_R   NaN      NaN       NaN       NaN       NaN       NaN       NaN   \n",
       "D_64_U   NaN      NaN       NaN       NaN       NaN       NaN       NaN   \n",
       "\n",
       "              B_3      D_42      D_43  ...     D_145    target   D_63_CO  \\\n",
       "P_2      0.448749  0.235435  0.287163  ...  0.166109  0.614998  0.041110   \n",
       "D_39     0.182154  0.066257  0.049564  ...  0.023412  0.186362  0.188220   \n",
       "B_1      0.738076  0.096518  0.083217  ...  0.078278  0.393132  0.103366   \n",
       "B_2      0.728015  0.150239  0.151505  ...  0.127359  0.497168  0.135589   \n",
       "R_1      0.279042  0.143223  0.189745  ...  0.076915  0.386730  0.019015   \n",
       "...           ...       ...       ...  ...       ...       ...       ...   \n",
       "D_63_XM       NaN       NaN       NaN  ...       NaN       NaN       NaN   \n",
       "D_63_XZ       NaN       NaN       NaN  ...       NaN       NaN       NaN   \n",
       "D_64_O        NaN       NaN       NaN  ...       NaN       NaN       NaN   \n",
       "D_64_R        NaN       NaN       NaN  ...       NaN       NaN       NaN   \n",
       "D_64_U        NaN       NaN       NaN  ...       NaN       NaN       NaN   \n",
       "\n",
       "          D_63_CR   D_63_XL   D_63_XM   D_63_XZ    D_64_O    D_64_R    D_64_U  \n",
       "P_2      0.053109  0.005631  0.002169  0.020095  0.254141  0.087495  0.202303  \n",
       "D_39     0.091948  0.018958  0.018609  0.006330  0.014754  0.004588  0.013072  \n",
       "B_1      0.121281  0.002188  0.018355  0.005767  0.070520  0.025582  0.055792  \n",
       "B_2      0.171234  0.001084  0.021994  0.011971  0.128990  0.041340  0.106674  \n",
       "R_1      0.043066  0.006733  0.001787  0.007988  0.082478  0.029465  0.065765  \n",
       "...           ...       ...       ...       ...       ...       ...       ...  \n",
       "D_63_XM       NaN       NaN       NaN  0.004595  0.001991  0.001655  0.001186  \n",
       "D_63_XZ       NaN       NaN       NaN       NaN  0.006870  0.002901  0.004845  \n",
       "D_64_O        NaN       NaN       NaN       NaN       NaN  0.433248  0.717138  \n",
       "D_64_R        NaN       NaN       NaN       NaN       NaN       NaN  0.303831  \n",
       "D_64_U        NaN       NaN       NaN       NaN       NaN       NaN       NaN  \n",
       "\n",
       "[195 rows x 195 columns]"
      ]
     },
     "execution_count": 80,
     "metadata": {},
     "output_type": "execute_result"
    }
   ],
   "source": [
    "upper"
   ]
  },
  {
   "cell_type": "code",
   "execution_count": 105,
   "id": "5fb86938",
   "metadata": {},
   "outputs": [
    {
     "name": "stdout",
     "output_type": "stream",
     "text": [
      "B_11 B_1\n",
      "R_4 R_2\n",
      "S_7 S_3\n",
      "D_55 D_48\n",
      "D_61 D_48\n",
      "D_61 D_55\n",
      "B_15 B_14\n",
      "B_16 B_2\n",
      "B_18 B_2\n",
      "B_18 B_16\n",
      "B_19 B_3\n",
      "B_20 B_2\n",
      "B_20 B_3\n",
      "B_20 B_16\n",
      "B_20 B_18\n",
      "B_22 B_3\n",
      "S_15 S_8\n",
      "B_23 B_7\n",
      "D_74 D_58\n",
      "D_75 D_44\n",
      "D_75 D_58\n",
      "D_75 D_74\n",
      "D_77 D_62\n",
      "R_8 R_5\n",
      "B_30 B_19\n",
      "B_30 B_22\n",
      "R_21 S_20\n",
      "B_33 B_2\n",
      "B_33 B_16\n",
      "B_33 B_18\n",
      "B_33 B_20\n",
      "S_24 S_22\n",
      "D_104 D_103\n",
      "D_107 D_103\n",
      "D_107 D_104\n",
      "B_37 B_1\n",
      "B_37 B_11\n",
      "B_38 B_16\n",
      "D_118 D_115\n",
      "D_119 D_115\n",
      "D_119 D_118\n",
      "D_129 D_128\n",
      "D_131 D_79\n",
      "D_141 D_139\n",
      "D_143 D_139\n",
      "D_143 D_141\n"
     ]
    }
   ],
   "source": [
    "for cols in upper.drop([\"D_63_CR\",\"D_63_CO\",\"D_63_XL\",\"D_63_XM\",\"D_63_XZ\",\"D_64_O\",\"D_64_R\",\"D_64_U\"],axis=1).columns:\n",
    "    for i in upper.loc[(upper[cols]>0.75) ].index:\n",
    "        print(cols,i)"
   ]
  },
  {
   "cell_type": "code",
   "execution_count": 120,
   "id": "4f07d429",
   "metadata": {},
   "outputs": [],
   "source": [
    "df1[\"S1_new\"]=(df1[\"S_7\"]+df1[\"S_3\"])/2\n",
    "df1[\"S2_new\"]=(df1[\"S_15\"]+df1[\"S_8\"])/2\n",
    "df1[\"S3_new\"]=(df1[\"S_22\"]+df1[\"S_24\"])/2"
   ]
  },
  {
   "cell_type": "code",
   "execution_count": 123,
   "id": "626cf01f",
   "metadata": {},
   "outputs": [],
   "source": [
    "s_drop=[\"S_7\",\"S_3\",\"S_8\",\"S_15\",\"S_22\",\"S_24\"]\n",
    "df1.drop(s_drop,axis=1,inplace=True)"
   ]
  },
  {
   "cell_type": "code",
   "execution_count": 116,
   "id": "1755fe23",
   "metadata": {},
   "outputs": [],
   "source": [
    "df1[\"R1_new\"]=(df1[\"R_4\"]+df1[\"R_2\"])/2\n",
    "df1[\"R2_new\"]=(df1[\"R_5\"]+df1[\"R_8\"])/2\n",
    "df1[\"R3_new\"]=(df1[\"R_21\"]+df1[\"S_20\"])/2"
   ]
  },
  {
   "cell_type": "code",
   "execution_count": 119,
   "id": "8dd8b24a",
   "metadata": {},
   "outputs": [],
   "source": [
    "r_drop=[\"R_2\",\"R_4\",\"R_5\",\"R_8\",\"R_21\",\"S_20\"]\n",
    "df1.drop(r_drop,axis=1,inplace=True)"
   ]
  },
  {
   "cell_type": "code",
   "execution_count": 112,
   "id": "20a463ee",
   "metadata": {},
   "outputs": [],
   "source": [
    "df1[\"D1_new\"]=(df1[\"D_55\"]+df1[\"D_48\"]+df1[\"D_61\"])/3\n",
    "df1[\"D2_new\"]=(df1[\"D_74\"]+df1[\"D_58\"]+df1[\"D_75\"]+df1[\"D_44\"])/4\n",
    "df1[\"D3_new\"]=(df1[\"D_77\"]+df1[\"D_62\"])/2\n",
    "df1[\"D4_new\"]=(df1[\"D_103\"]+df1[\"D_104\"]+df1[\"D_107\"])/3\n",
    "df1[\"D5_new\"]=(df1[\"D_118\"]+df1[\"D_119\"]+df1[\"D_115\"])/3\n",
    "df1[\"D6_new\"]=(df1[\"D_129\"]+df1[\"D_128\"])/2\n",
    "df1[\"D7_new\"]=(df1[\"D_131\"]+df1[\"D_79\"])/2\n",
    "df1[\"D8_new\"]=(df1[\"D_141\"]+df1[\"D_143\"]+df1[\"D_139\"])/3"
   ]
  },
  {
   "cell_type": "code",
   "execution_count": 113,
   "id": "bde96d7d",
   "metadata": {},
   "outputs": [
    {
     "data": {
      "text/plain": [
       "Index(['P_2', 'D_39', 'R_1', 'S_3', 'D_41', 'D_42', 'D_43', 'D_44', 'B_4',\n",
       "       'D_45',\n",
       "       ...\n",
       "       'B3_New', 'B4_New', 'D1_new', 'D2_new', 'D3_new', 'D4_new', 'D5_new',\n",
       "       'D6_new', 'D7_new', 'D8_new'],\n",
       "      dtype='object', length=190)"
      ]
     },
     "execution_count": 113,
     "metadata": {},
     "output_type": "execute_result"
    }
   ],
   "source": [
    "df1.columns"
   ]
  },
  {
   "cell_type": "code",
   "execution_count": 115,
   "id": "d715efa9",
   "metadata": {},
   "outputs": [],
   "source": [
    "d_drop=[\"D_55\",\"D_48\",\"D_61\",\"D_74\",\"D_58\",\"D_75\",\n",
    "        \"D_44\",\"D_77\",\"D_62\",\"D_103\",\"D_104\",\"D_107\",\"D_118\",\"D_119\",\"D_115\",\"D_128\",\"D_129\",\"D_131\",\"D_79\",\n",
    "       \"D_141\",\"D_143\",\"D_139\"]\n",
    "df1.drop(d_drop,axis=1,inplace=True)"
   ]
  },
  {
   "cell_type": "code",
   "execution_count": 107,
   "id": "f6de548a",
   "metadata": {},
   "outputs": [],
   "source": [
    "df1=df.copy()\n",
    "df1[\"B1_New\"]=(df1[\"B_11\"] + df1[\"B_1\"]+df1[\"B_37\"])/3\n",
    "df1[\"B2_New\"]=(df1[\"B_15\"] + df1[\"B_14\"])/2\n",
    "df1[\"B3_New\"]=(df1[\"B_16\"] + df1[\"B_2\"]+df[\"B_18\"]+df1[\"B_20\"]+df1[\"B_33\"]+df1[\"B_38\"]+df1[\"B_3\"]+df1[\"B_19\"]+df1[\"B_22\"]+df1[\"B_30\"])/10\n",
    "df1[\"B4_New\"]=(df1[\"B_23\"] + df1[\"B_7\"])/2\n"
   ]
  },
  {
   "cell_type": "code",
   "execution_count": 110,
   "id": "d9d0f038",
   "metadata": {},
   "outputs": [
    {
     "data": {
      "text/plain": [
       "Index(['P_2', 'D_39', 'R_1', 'S_3', 'D_41', 'D_42', 'D_43', 'D_44', 'B_4',\n",
       "       'D_45',\n",
       "       ...\n",
       "       'D_63_XL', 'D_63_XM', 'D_63_XZ', 'D_64_O', 'D_64_R', 'D_64_U', 'B1_New',\n",
       "       'B2_New', 'B3_New', 'B4_New'],\n",
       "      dtype='object', length=182)"
      ]
     },
     "execution_count": 110,
     "metadata": {},
     "output_type": "execute_result"
    }
   ],
   "source": [
    "b_drop=[\"B_11\", \"B_1\",\"B_15\", \"B_14\",\"B_16\", \"B_2\",\"B_18\",\"B_19\", \"B_3\",\"B_20\",\"B_22\",\"B_23\",\n",
    "        \"B_7\",\"B_30\",\"B_33\",\"B_37\",\"B_11\",\"B_38\" ]\n",
    "df1.drop(b_drop,axis=1,inplace=True)"
   ]
  },
  {
   "cell_type": "code",
   "execution_count": 128,
   "id": "84db8fb0",
   "metadata": {},
   "outputs": [
    {
     "data": {
      "text/plain": [
       "P_2       0.614998\n",
       "D_39      0.186362\n",
       "R_1       0.386730\n",
       "D_41      0.245228\n",
       "D_42      0.311544\n",
       "            ...   \n",
       "R2_new         NaN\n",
       "R3_new         NaN\n",
       "S1_new         NaN\n",
       "S2_new         NaN\n",
       "S3_new         NaN\n",
       "Name: target, Length: 162, dtype: float64"
      ]
     },
     "execution_count": 128,
     "metadata": {},
     "output_type": "execute_result"
    }
   ],
   "source": [
    "corr_matrix = df1.corr().abs()\n",
    "\n",
    "# Select upper triangle of correlation matrix\n",
    "upper = corr_matrix.where(np.triu(np.ones(corr_matrix.shape), k=1).astype(np.bool))\n",
    "\n",
    "# Find features with correlation greater than 0.75\n",
    "#to_drop = [column for column in upper.columns if any(upper[column] > 0.75)]\n",
    "\n",
    "# Drop features \n",
    "#df.drop(to_drop, axis=1, inplace=True)\n",
    "upper[\"target\"]"
   ]
  },
  {
   "cell_type": "code",
   "execution_count": 136,
   "id": "47c1b4e4",
   "metadata": {},
   "outputs": [
    {
     "name": "stdout",
     "output_type": "stream",
     "text": [
      "0.058415573090314865\n",
      "0.05275736004114151\n",
      "0.03997426480054855\n",
      "0.034856297075748444\n",
      "0.04598183184862137\n",
      "0.0360322967171669\n",
      "0.04725843295454979\n",
      "0.058502670377492905\n",
      "0.12681220471858978\n",
      "0.021729016676545143\n",
      "0.05527974292635918\n",
      "0.10651830583810806\n",
      "0.6124359369277954\n",
      "0.24496319890022278\n",
      "0.2763262987136841\n",
      "0.05497455596923828\n",
      "0.07379838824272156\n",
      "0.041924651712179184\n",
      "0.029831279069185257\n",
      "0.02322932705283165\n",
      "19.63359832763672\n",
      "0.025889422744512558\n",
      "0.1231040209531784\n",
      "0.17394214868545532\n",
      "0.01695474050939083\n",
      "0.693972110748291\n",
      "0.04415788874030113\n",
      "0.22519683837890625\n",
      "0.037066079676151276\n",
      "0.0357850082218647\n",
      "0.13189586997032166\n",
      "0.03147759288549423\n",
      "0.19532091915607452\n",
      "0.15545828640460968\n",
      "0.022774530574679375\n",
      "1.8163409233093262\n",
      "0.026262907311320305\n",
      "0.27148813009262085\n",
      "0.08151068538427353\n",
      "0.4030681252479553\n",
      "451.8224792480469\n",
      "0.04639692232012749\n",
      "0.07895229756832123\n",
      "0.03761737793684006\n",
      "0.03677292540669441\n",
      "0.1235516220331192\n",
      "0.0749252662062645\n",
      "0.07629939168691635\n",
      "1.152436375617981\n",
      "0.04083798825740814\n",
      "6.735220432281494\n",
      "0.05392849072813988\n",
      "0.032839104533195496\n",
      "0.47401025891304016\n",
      "0.04218865931034088\n",
      "0.06255233287811279\n",
      "0.019459044560790062\n",
      "5.77331411477644e-06\n",
      "0.10437702387571335\n",
      "0.03788172826170921\n",
      "0.04306678846478462\n",
      "0.021644921973347664\n",
      "0.05005551874637604\n",
      "3.549675238900818e-05\n",
      "0.09540475904941559\n",
      "42.836002349853516\n",
      "0.00899498350918293\n",
      "0.0636322870850563\n",
      "0.03451766073703766\n",
      "0.06816127151250839\n",
      "0.02468184381723404\n",
      "0.03003629297018051\n",
      "0.0\n",
      "2.1899100829614326e-05\n",
      "6.758089057257166e-06\n",
      "0.025534017011523247\n",
      "0.0017719357795628352\n",
      "6.197082257131115e-06\n",
      "0.016217492520809174\n",
      "0.017860352993011475\n",
      "0.09645683318376541\n",
      "0.00022134548635222018\n",
      "0.0021319114603102207\n",
      "0.00022348604397848248\n",
      "0.031515274196863174\n",
      "0.07985363900661469\n",
      "0.009381245821714401\n",
      "0.015216016210615635\n",
      "0.010210833512246609\n",
      "0.002024133922532201\n",
      "0.02664164826273918\n",
      "0.05559157580137253\n",
      "0.033611759543418884\n",
      "0.19306762516498566\n",
      "0.0715886726975441\n",
      "0.06279029697179794\n",
      "0.22789934277534485\n",
      "0.0004112794704269618\n",
      "0.03932918980717659\n",
      "0.09941502660512924\n",
      "0.06410802900791168\n",
      "0.0016228350577875972\n",
      "0.10375013202428818\n",
      "0.08455707132816315\n",
      "0.091365747153759\n",
      "0.12533226609230042\n",
      "49.498634338378906\n",
      "0.10812074691057205\n",
      "0.0510239414870739\n",
      "0.23346254229545593\n",
      "0.0010571845341473818\n",
      "4.990142345428467\n",
      "0.1091046929359436\n",
      "0.055277019739151\n",
      "0.05489138141274452\n",
      "0.06255743652582169\n",
      "0.05131230875849724\n",
      "0.0747787207365036\n",
      "0.2634807825088501\n",
      "0.08626619726419449\n",
      "0.04536750167608261\n",
      "0.09132062643766403\n",
      "0.15745697915554047\n",
      "0.07337544113397598\n",
      "0.027600597590208054\n",
      "0.0008290784317068756\n",
      "0.0913710817694664\n",
      "0.015594478696584702\n",
      "0.03175146132707596\n",
      "0.006146557629108429\n",
      "0.06460735201835632\n",
      "0.020730650052428246\n",
      "0.0558171421289444\n",
      "0.03250556439161301\n",
      "0.03778582066297531\n",
      "0.18942077502228313\n",
      "0.18836491539186886\n",
      "0.1415058519995644\n",
      "0.0021560013252975444\n",
      "0.0029422069072993842\n",
      "0.0070320381132058735\n",
      "0.24996939972599774\n",
      "0.13103582573139905\n",
      "0.2226526247088962\n",
      "0.04227064177393913\n",
      "0.07931897044181824\n",
      "0.04495712369680405\n",
      "0.05058424919843674\n",
      "0.08557718992233276\n",
      "0.045753270387649536\n",
      "0.0446484200656414\n",
      "0.1585748940706253\n",
      "0.05940430238842964\n",
      "0.21311494708061218\n",
      "0.06153625249862671\n",
      "0.1362943947315216\n",
      "0.022182831540703773\n",
      "0.047453030943870544\n",
      "0.011846440844237804\n",
      "0.034010183066129684\n",
      "0.008027950301766396\n",
      "0.4620096981525421\n"
     ]
    }
   ],
   "source": [
    "for i in df1.columns:\n",
    "    if df1[i].var()<0.005"
   ]
  },
  {
   "cell_type": "code",
   "execution_count": 149,
   "id": "deb2c3a6",
   "metadata": {},
   "outputs": [],
   "source": [
    "import scipy.stats as stats\n",
    "insig=[\"target\"]\n",
    "for i in df1.columns:\n",
    "        zer=df1.loc[df1[\"target\"]==0,i]\n",
    "        one=df1.loc[df1[\"target\"]==1,i]\n",
    "        if stats.ttest_ind(zer,one).pvalue>(10)**(-90):\n",
    "            insig.append(i)"
   ]
  },
  {
   "cell_type": "code",
   "execution_count": 168,
   "id": "ce6cb334",
   "metadata": {},
   "outputs": [
    {
     "data": {
      "text/html": [
       "<div>\n",
       "<style scoped>\n",
       "    .dataframe tbody tr th:only-of-type {\n",
       "        vertical-align: middle;\n",
       "    }\n",
       "\n",
       "    .dataframe tbody tr th {\n",
       "        vertical-align: top;\n",
       "    }\n",
       "\n",
       "    .dataframe thead th {\n",
       "        text-align: right;\n",
       "    }\n",
       "</style>\n",
       "<table border=\"1\" class=\"dataframe\">\n",
       "  <thead>\n",
       "    <tr style=\"text-align: right;\">\n",
       "      <th></th>\n",
       "      <th>target</th>\n",
       "    </tr>\n",
       "  </thead>\n",
       "  <tbody>\n",
       "    <tr>\n",
       "      <th>P_2</th>\n",
       "      <td>-0.614998</td>\n",
       "    </tr>\n",
       "    <tr>\n",
       "      <th>D3_new</th>\n",
       "      <td>-0.392422</td>\n",
       "    </tr>\n",
       "    <tr>\n",
       "      <th>D_47</th>\n",
       "      <td>-0.283030</td>\n",
       "    </tr>\n",
       "    <tr>\n",
       "      <th>P_3</th>\n",
       "      <td>-0.282313</td>\n",
       "    </tr>\n",
       "    <tr>\n",
       "      <th>R_27</th>\n",
       "      <td>-0.279472</td>\n",
       "    </tr>\n",
       "    <tr>\n",
       "      <th>...</th>\n",
       "      <td>...</td>\n",
       "    </tr>\n",
       "    <tr>\n",
       "      <th>B4_New</th>\n",
       "      <td>0.429431</td>\n",
       "    </tr>\n",
       "    <tr>\n",
       "      <th>D2_new</th>\n",
       "      <td>0.478426</td>\n",
       "    </tr>\n",
       "    <tr>\n",
       "      <th>B_9</th>\n",
       "      <td>0.497119</td>\n",
       "    </tr>\n",
       "    <tr>\n",
       "      <th>D1_new</th>\n",
       "      <td>0.536556</td>\n",
       "    </tr>\n",
       "    <tr>\n",
       "      <th>target</th>\n",
       "      <td>1.000000</td>\n",
       "    </tr>\n",
       "  </tbody>\n",
       "</table>\n",
       "<p>151 rows × 1 columns</p>\n",
       "</div>"
      ],
      "text/plain": [
       "          target\n",
       "P_2    -0.614998\n",
       "D3_new -0.392422\n",
       "D_47   -0.283030\n",
       "P_3    -0.282313\n",
       "R_27   -0.279472\n",
       "...          ...\n",
       "B4_New  0.429431\n",
       "D2_new  0.478426\n",
       "B_9     0.497119\n",
       "D1_new  0.536556\n",
       "target  1.000000\n",
       "\n",
       "[151 rows x 1 columns]"
      ]
     },
     "execution_count": 168,
     "metadata": {},
     "output_type": "execute_result"
    }
   ],
   "source": [
    "#df1[insig].corr()[\"target\"]\n",
    "#df1.corr()[[\"target\"]].loc[abs(df1.corr()[\"target\"])>0.01].sort_values(\"target\")\n",
    "df1.corr()[[\"target\"]].loc[abs(df1.corr()[\"target\"])>0.01].sort_values(\"target\")"
   ]
  },
  {
   "cell_type": "code",
   "execution_count": 167,
   "id": "fbbaab21",
   "metadata": {},
   "outputs": [],
   "source": [
    "df1.drop(\"D_87\",axis=1,inplace=True)"
   ]
  },
  {
   "cell_type": "code",
   "execution_count": 169,
   "id": "53b7c991",
   "metadata": {},
   "outputs": [
    {
     "data": {
      "text/plain": [
       "(399877, 161)"
      ]
     },
     "execution_count": 169,
     "metadata": {},
     "output_type": "execute_result"
    }
   ],
   "source": [
    "df1.shape"
   ]
  },
  {
   "cell_type": "code",
   "execution_count": 174,
   "id": "f4bcc42f",
   "metadata": {},
   "outputs": [],
   "source": [
    "X=df1.drop(\"target\",axis=1)\n",
    "y=df1[\"target\"]"
   ]
  },
  {
   "cell_type": "code",
   "execution_count": 182,
   "id": "cf167e0c",
   "metadata": {},
   "outputs": [],
   "source": [
    "from sklearn.model_selection import train_test_split\n",
    "xtrain,xtest,ytrain,ytest=train_test_split(X,y,test_size=0.25,random_state=10,stratify=y)"
   ]
  },
  {
   "cell_type": "code",
   "execution_count": 183,
   "id": "fa84eb2f",
   "metadata": {},
   "outputs": [
    {
     "name": "stdout",
     "output_type": "stream",
     "text": [
      "f1 score1 0.9076870625513908\n"
     ]
    }
   ],
   "source": [
    "from sklearn.ensemble import RandomForestClassifier\n",
    "rf=RandomForestClassifier()\n",
    "model_rf=rf.fit(xtrain,ytrain)\n",
    "pred_rf=model_rf.predict(xtest)\n",
    "\n",
    "from sklearn.metrics import f1_score,classification_report, accuracy_score\n",
    "#print(\"accuracy score\",accuracy_score(ytest,pred))\n",
    "print(\"f1 score1\",f1_score(ytest,pred_rf))\n",
    "\n",
    "#print(\"classification report\",classification_report(ytest,pred))"
   ]
  },
  {
   "cell_type": "code",
   "execution_count": 189,
   "id": "ea404689",
   "metadata": {},
   "outputs": [
    {
     "name": "stdout",
     "output_type": "stream",
     "text": [
      "classification_report               precision    recall  f1-score   support\n",
      "\n",
      "         0.0       0.96      0.98      0.97     74591\n",
      "         1.0       0.92      0.89      0.91     25379\n",
      "\n",
      "    accuracy                           0.95     99970\n",
      "   macro avg       0.94      0.93      0.94     99970\n",
      "weighted avg       0.95      0.95      0.95     99970\n",
      "\n"
     ]
    }
   ],
   "source": [
    "print(\"classification_report\",classification_report(ytest,pred_rf))"
   ]
  },
  {
   "cell_type": "code",
   "execution_count": 188,
   "id": "45508622",
   "metadata": {},
   "outputs": [
    {
     "name": "stdout",
     "output_type": "stream",
     "text": [
      "accuracy_score 0.9539561868560568\n"
     ]
    }
   ],
   "source": [
    "print(\"accuracy_score\",accuracy_score(ytest,pred_rf))"
   ]
  },
  {
   "cell_type": "code",
   "execution_count": 184,
   "id": "79660e1d",
   "metadata": {},
   "outputs": [],
   "source": [
    "from sklearn.ensemble import RandomForestClassifier\n",
    "classifier=RandomForestClassifier()"
   ]
  },
  {
   "cell_type": "code",
   "execution_count": 185,
   "id": "9eca58ee",
   "metadata": {},
   "outputs": [
    {
     "name": "stdout",
     "output_type": "stream",
     "text": [
      "Train: [ 59672  59673  59674 ... 399874 399875 399876] Validation: [     0      1      2 ... 318661 318662 318663]\n",
      "Train: [     0      1      2 ... 399874 399875 399876] Validation: [ 59672  59673  59674 ... 338965 338966 338967]\n",
      "Train: [     0      1      2 ... 399874 399875 399876] Validation: [119344 119345 119346 ... 359268 359269 359270]\n",
      "Train: [     0      1      2 ... 399874 399875 399876] Validation: [179016 179017 179018 ... 379571 379572 379573]\n",
      "Train: [     0      1      2 ... 379571 379572 379573] Validation: [238688 238689 238690 ... 399874 399875 399876]\n",
      "[0.8905768218395127, 0.9061594659276988, 0.9029709944403914, 0.88271620625683, 0.9086614568937357]\n"
     ]
    }
   ],
   "source": [
    "from sklearn.model_selection import StratifiedKFold\n",
    "f1=[]\n",
    "skf=StratifiedKFold(n_splits=5,random_state=None)\n",
    "skf.get_n_splits(X,y)\n",
    "for train_index,test_index in skf.split(X,y):\n",
    "    print(\"Train:\", train_index, \"Validation:\", test_index)\n",
    "    x1_train,x1_test=X.iloc[train_index],X.iloc[test_index]\n",
    "    y1_train,y1_test=y.iloc[train_index],y.iloc[test_index]\n",
    "    classifier.fit(x1_train,y1_train)\n",
    "    prediction=classifier.predict(x1_test)\n",
    "    score=f1_score(y1_test,prediction)\n",
    "    f1.append(score)\n",
    "\n",
    "print(f1)\n",
    "    "
   ]
  },
  {
   "cell_type": "code",
   "execution_count": 193,
   "id": "e26977d2",
   "metadata": {},
   "outputs": [
    {
     "name": "stdout",
     "output_type": "stream",
     "text": [
      "              precision    recall  f1-score   support\n",
      "\n",
      "         0.0       0.96      0.98      0.97     59672\n",
      "         1.0       0.93      0.89      0.91     20303\n",
      "\n",
      "    accuracy                           0.95     79975\n",
      "   macro avg       0.95      0.93      0.94     79975\n",
      "weighted avg       0.95      0.95      0.95     79975\n",
      "\n"
     ]
    }
   ],
   "source": [
    "print(classification_report(y1_test,prediction))"
   ]
  },
  {
   "cell_type": "code",
   "execution_count": 195,
   "id": "31d1e240",
   "metadata": {},
   "outputs": [
    {
     "name": "stdout",
     "output_type": "stream",
     "text": [
      "Train: [ 59672  59673  59674 ... 399874 399875 399876] Validation: [     0      1      2 ... 318661 318662 318663]\n",
      "Train: [     0      1      2 ... 399874 399875 399876] Validation: [ 59672  59673  59674 ... 338965 338966 338967]\n",
      "Train: [     0      1      2 ... 399874 399875 399876] Validation: [119344 119345 119346 ... 359268 359269 359270]\n",
      "Train: [     0      1      2 ... 399874 399875 399876] Validation: [179016 179017 179018 ... 379571 379572 379573]\n",
      "Train: [     0      1      2 ... 379571 379572 379573] Validation: [238688 238689 238690 ... 399874 399875 399876]\n",
      "[0.8681636726546906, 0.872234718342932, 0.8714881366027996, 0.8626497824660332, 0.8853762750376646]\n"
     ]
    }
   ],
   "source": [
    "from sklearn.linear_model import LogisticRegression\n",
    "log=LogisticRegression()\n",
    "from sklearn.model_selection import StratifiedKFold\n",
    "f1=[]\n",
    "skf=StratifiedKFold(n_splits=5,random_state=None)\n",
    "skf.get_n_splits(X,y)\n",
    "for train_index,test_index in skf.split(X,y):\n",
    "    print(\"Train:\", train_index, \"Validation:\", test_index)\n",
    "    x1_train,x1_test=X.iloc[train_index],X.iloc[test_index]\n",
    "    y1_train,y1_test=y.iloc[train_index],y.iloc[test_index]\n",
    "    log.fit(x1_train,y1_train)\n",
    "    pred_log=log.predict(x1_test)\n",
    "    score=f1_score(y1_test,pred_log)\n",
    "    f1.append(score)\n",
    "\n",
    "print(f1)"
   ]
  },
  {
   "cell_type": "code",
   "execution_count": 190,
   "id": "b7af8d6f",
   "metadata": {},
   "outputs": [
    {
     "name": "stdout",
     "output_type": "stream",
     "text": [
      "f1 score1 0.9076870625513908\n"
     ]
    }
   ],
   "source": [
    "from lightgbm import LGBMClassifier\n",
    "light=LGBMClassifier()\n",
    "model_lgb=light.fit(xtrain,ytrain)\n",
    "pred_lgb=model_lgb.predict(xtest)\n",
    "\n",
    "from sklearn.metrics import f1_score,classification_report, accuracy_score\n",
    "#print(\"accuracy score\",accuracy_score(ytest,pred))\n",
    "\n",
    "print(\"f1 score1\",f1_score(ytest,pred_lgb))"
   ]
  },
  {
   "cell_type": "code",
   "execution_count": 191,
   "id": "530885ca",
   "metadata": {},
   "outputs": [
    {
     "name": "stdout",
     "output_type": "stream",
     "text": [
      "classification_report               precision    recall  f1-score   support\n",
      "\n",
      "         0.0       0.99      0.98      0.98     74591\n",
      "         1.0       0.95      0.96      0.96     25379\n",
      "\n",
      "    accuracy                           0.98     99970\n",
      "   macro avg       0.97      0.97      0.97     99970\n",
      "weighted avg       0.98      0.98      0.98     99970\n",
      "\n"
     ]
    }
   ],
   "source": [
    "print(\"classification_report\",classification_report(ytest,pred_lgb))"
   ]
  },
  {
   "cell_type": "code",
   "execution_count": 198,
   "id": "108447e6",
   "metadata": {},
   "outputs": [
    {
     "data": {
      "text/plain": [
       "(399877, 161)"
      ]
     },
     "execution_count": 198,
     "metadata": {},
     "output_type": "execute_result"
    }
   ],
   "source": [
    "df1.shape"
   ]
  },
  {
   "cell_type": "code",
   "execution_count": 197,
   "id": "62080671",
   "metadata": {},
   "outputs": [],
   "source": [
    "c181=['P_2', 'D_39', 'R_1', 'S_3', 'D_41', 'D_42', 'D_43', 'D_44', 'B_4', 'D_45', 'B_5', 'R_2', 'D_46', 'D_47', 'D_48', 'D_49', 'B_6', 'B_8', 'D_50', 'D_51', 'B_9', 'R_3', 'D_52', 'P_3', 'B_10', 'D_53', 'S_5', 'S_6', 'D_54', 'R_4', 'S_7', 'B_12', 'S_8', 'D_55', 'D_56', 'B_13', 'R_5', 'D_58', 'S_9', 'D_59', 'D_60', 'D_61', 'S_11', 'D_62', 'D_65', 'B_17', 'D_66', 'D_68', 'S_12', 'R_6', 'S_13', 'B_21', 'D_69', 'D_70', 'D_71', 'D_72', 'S_15', 'D_73', 'P_4', 'D_74', 'D_75', 'D_76', 'B_24', 'R_7', 'D_77', 'B_25', 'B_26', 'D_78', 'D_79', 'R_8', 'R_9', 'S_16', 'D_80', 'R_10', 'R_11', 'B_27', 'D_81', 'D_82', 'S_17', 'R_12', 'B_28', 'R_13', 'D_83', 'R_14', 'R_15', 'D_84', 'R_16', 'B_29', 'S_18', 'D_86', 'R_17', 'R_18', 'D_88', 'B_31', 'S_19', 'R_19', 'B_32', 'S_20', 'R_20', 'R_21', 'D_89', 'R_22', 'R_23', 'D_91', 'D_92', 'D_93', 'D_94', 'R_24', 'R_25', 'D_96', 'S_22', 'S_23', 'S_24', 'S_25', 'S_26', 'D_102', 'D_103', 'D_104', 'D_105', 'D_106', 'D_107', 'B_36', 'R_26', 'R_27', 'D_108', 'D_109', 'D_110', 'D_111', 'B_39', 'D_112', 'B_40', 'S_27', 'D_113', 'D_114', 'D_115', 'D_116', 'D_117', 'D_118', 'D_119', 'D_120', 'D_121', 'D_122', 'D_123', 'D_124', 'D_125', 'D_126', 'D_127', 'D_128', 'D_129', 'B_41', 'B_42', 'D_130', 'D_131', 'D_132', 'D_133', 'R_28', 'D_134', 'D_135', 'D_136', 'D_137', 'D_138', 'D_139', 'D_140', 'D_141', 'D_142', 'D_143', 'D_144', 'D_145', 'target', 'D_63_CO', 'D_63_CR', 'D_63_XL', 'D_63_XM', 'D_63_XZ', 'D_64_O', 'D_64_R', 'D_64_U', 'B1_New', 'B2_New', 'B3_New', 'B4_New']\n"
   ]
  },
  {
   "cell_type": "code",
   "execution_count": 199,
   "id": "9be50d2f",
   "metadata": {},
   "outputs": [
    {
     "name": "stdout",
     "output_type": "stream",
     "text": [
      "S_3\n",
      "D_44\n",
      "R_2\n",
      "D_48\n",
      "R_4\n",
      "S_7\n",
      "S_8\n",
      "D_55\n",
      "R_5\n",
      "D_58\n",
      "D_61\n",
      "D_62\n",
      "S_15\n",
      "D_74\n",
      "D_75\n",
      "D_77\n",
      "D_79\n",
      "R_8\n",
      "S_20\n",
      "R_21\n",
      "S_22\n",
      "S_24\n",
      "D_103\n",
      "D_104\n",
      "D_107\n",
      "D_115\n",
      "D_118\n",
      "D_119\n",
      "D_128\n",
      "D_129\n",
      "D_131\n",
      "D_139\n",
      "D_141\n",
      "D_143\n"
     ]
    }
   ],
   "source": [
    "for i in c181:\n",
    "    if i not in df1.columns:\n",
    "        print(i)"
   ]
  },
  {
   "cell_type": "code",
   "execution_count": null,
   "id": "3a46ffad",
   "metadata": {},
   "outputs": [],
   "source": []
  }
 ],
 "metadata": {
  "kernelspec": {
   "display_name": "Python 3 (ipykernel)",
   "language": "python",
   "name": "python3"
  },
  "language_info": {
   "codemirror_mode": {
    "name": "ipython",
    "version": 3
   },
   "file_extension": ".py",
   "mimetype": "text/x-python",
   "name": "python",
   "nbconvert_exporter": "python",
   "pygments_lexer": "ipython3",
   "version": "3.9.7"
  }
 },
 "nbformat": 4,
 "nbformat_minor": 5
}
